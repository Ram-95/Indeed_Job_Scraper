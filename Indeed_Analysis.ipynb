{
 "cells": [
  {
   "cell_type": "markdown",
   "metadata": {},
   "source": [
    "# Pandas Basics"
   ]
  },
  {
   "cell_type": "code",
   "execution_count": 1,
   "metadata": {},
   "outputs": [],
   "source": [
    "import pandas as pd\n",
    "import matplotlib.pyplot as plt\n",
    "import os"
   ]
  },
  {
   "cell_type": "code",
   "execution_count": 2,
   "metadata": {},
   "outputs": [],
   "source": [
    "try:\n",
    "    path = 'C:\\\\Users\\\\shyam\\\\Desktop\\\\Indeed\\\\Python_India_Jobs.csv'\n",
    "    df = pd.read_csv(path, encoding=\"ISO-8859-1\")\n",
    "    technology = os.path.basename(path).split('_')[0]\n",
    "except Exception as e:\n",
    "    print(f'EXCEPTION: {e}')"
   ]
  },
  {
   "cell_type": "code",
   "execution_count": 3,
   "metadata": {
    "scrolled": true
   },
   "outputs": [
    {
     "data": {
      "text/html": [
       "<div>\n",
       "<style scoped>\n",
       "    .dataframe tbody tr th:only-of-type {\n",
       "        vertical-align: middle;\n",
       "    }\n",
       "\n",
       "    .dataframe tbody tr th {\n",
       "        vertical-align: top;\n",
       "    }\n",
       "\n",
       "    .dataframe thead th {\n",
       "        text-align: right;\n",
       "    }\n",
       "</style>\n",
       "<table border=\"1\" class=\"dataframe\">\n",
       "  <thead>\n",
       "    <tr style=\"text-align: right;\">\n",
       "      <th></th>\n",
       "      <th>JOB_NAME</th>\n",
       "      <th>COMPANY</th>\n",
       "      <th>CITY</th>\n",
       "      <th>STATE</th>\n",
       "      <th>APPLY_LINK</th>\n",
       "      <th>POSTED_DATE</th>\n",
       "    </tr>\n",
       "  </thead>\n",
       "  <tbody>\n",
       "    <tr>\n",
       "      <th>0</th>\n",
       "      <td>Staff Engineer - Full Stack - Python</td>\n",
       "      <td>Thinkdeeply Inc.</td>\n",
       "      <td>Hyderabad</td>\n",
       "      <td>Telangana</td>\n",
       "      <td>https://www.indeed.co.in/viewjob?jk=8465704349...</td>\n",
       "      <td>11 days ago</td>\n",
       "    </tr>\n",
       "    <tr>\n",
       "      <th>1</th>\n",
       "      <td>Technology Specialist Applications - [Aws+Python]</td>\n",
       "      <td>Telstra</td>\n",
       "      <td>NaN</td>\n",
       "      <td>Karnataka</td>\n",
       "      <td>https://www.indeed.co.in/viewjob?jk=f3285fea89...</td>\n",
       "      <td>7 days ago</td>\n",
       "    </tr>\n",
       "    <tr>\n",
       "      <th>2</th>\n",
       "      <td>Python Developer</td>\n",
       "      <td>Saathvics Solutions</td>\n",
       "      <td>Hyderabad</td>\n",
       "      <td>Telangana</td>\n",
       "      <td>https://www.indeed.co.in/viewjob?jk=a45c26028a...</td>\n",
       "      <td>13 days ago</td>\n",
       "    </tr>\n",
       "    <tr>\n",
       "      <th>3</th>\n",
       "      <td>Python Developer</td>\n",
       "      <td>Vikas Choudhary</td>\n",
       "      <td>Secunderabad</td>\n",
       "      <td>Telangana</td>\n",
       "      <td>https://www.indeed.co.in/viewjob?jk=00c5d298e0...</td>\n",
       "      <td>6 days ago</td>\n",
       "    </tr>\n",
       "    <tr>\n",
       "      <th>4</th>\n",
       "      <td>Python Development Internship</td>\n",
       "      <td>Techshra</td>\n",
       "      <td>Hyderabad</td>\n",
       "      <td>Telangana</td>\n",
       "      <td>https://www.indeed.co.in/viewjob?jk=4f648ab8b9...</td>\n",
       "      <td>3 days ago</td>\n",
       "    </tr>\n",
       "  </tbody>\n",
       "</table>\n",
       "</div>"
      ],
      "text/plain": [
       "                                            JOB_NAME              COMPANY  \\\n",
       "0               Staff Engineer - Full Stack - Python     Thinkdeeply Inc.   \n",
       "1  Technology Specialist Applications - [Aws+Python]              Telstra   \n",
       "2                                   Python Developer  Saathvics Solutions   \n",
       "3                                   Python Developer      Vikas Choudhary   \n",
       "4                      Python Development Internship             Techshra   \n",
       "\n",
       "           CITY       STATE  \\\n",
       "0     Hyderabad   Telangana   \n",
       "1           NaN   Karnataka   \n",
       "2     Hyderabad   Telangana   \n",
       "3  Secunderabad   Telangana   \n",
       "4     Hyderabad   Telangana   \n",
       "\n",
       "                                          APPLY_LINK  POSTED_DATE  \n",
       "0  https://www.indeed.co.in/viewjob?jk=8465704349...  11 days ago  \n",
       "1  https://www.indeed.co.in/viewjob?jk=f3285fea89...   7 days ago  \n",
       "2  https://www.indeed.co.in/viewjob?jk=a45c26028a...  13 days ago  \n",
       "3  https://www.indeed.co.in/viewjob?jk=00c5d298e0...   6 days ago  \n",
       "4  https://www.indeed.co.in/viewjob?jk=4f648ab8b9...   3 days ago  "
      ]
     },
     "execution_count": 3,
     "metadata": {},
     "output_type": "execute_result"
    }
   ],
   "source": [
    "df.head()"
   ]
  },
  {
   "cell_type": "code",
   "execution_count": 4,
   "metadata": {},
   "outputs": [
    {
     "data": {
      "text/plain": [
       "(56, 6)"
      ]
     },
     "execution_count": 4,
     "metadata": {},
     "output_type": "execute_result"
    }
   ],
   "source": [
    "df.shape"
   ]
  },
  {
   "cell_type": "code",
   "execution_count": 5,
   "metadata": {},
   "outputs": [
    {
     "name": "stdout",
     "output_type": "stream",
     "text": [
      "<class 'pandas.core.frame.DataFrame'>\n",
      "RangeIndex: 56 entries, 0 to 55\n",
      "Data columns (total 6 columns):\n",
      " #   Column       Non-Null Count  Dtype \n",
      "---  ------       --------------  ----- \n",
      " 0   JOB_NAME     56 non-null     object\n",
      " 1   COMPANY      56 non-null     object\n",
      " 2   CITY         54 non-null     object\n",
      " 3   STATE        56 non-null     object\n",
      " 4   APPLY_LINK   56 non-null     object\n",
      " 5   POSTED_DATE  56 non-null     object\n",
      "dtypes: object(6)\n",
      "memory usage: 1.4+ KB\n"
     ]
    }
   ],
   "source": [
    "df.info()"
   ]
  },
  {
   "cell_type": "code",
   "execution_count": 6,
   "metadata": {},
   "outputs": [
    {
     "data": {
      "text/html": [
       "<div>\n",
       "<style scoped>\n",
       "    .dataframe tbody tr th:only-of-type {\n",
       "        vertical-align: middle;\n",
       "    }\n",
       "\n",
       "    .dataframe tbody tr th {\n",
       "        vertical-align: top;\n",
       "    }\n",
       "\n",
       "    .dataframe thead th {\n",
       "        text-align: right;\n",
       "    }\n",
       "</style>\n",
       "<table border=\"1\" class=\"dataframe\">\n",
       "  <thead>\n",
       "    <tr style=\"text-align: right;\">\n",
       "      <th></th>\n",
       "      <th>JOB_NAME</th>\n",
       "      <th>COMPANY</th>\n",
       "      <th>CITY</th>\n",
       "      <th>STATE</th>\n",
       "      <th>APPLY_LINK</th>\n",
       "      <th>POSTED_DATE</th>\n",
       "    </tr>\n",
       "  </thead>\n",
       "  <tbody>\n",
       "    <tr>\n",
       "      <th>51</th>\n",
       "      <td>Perl /Python Programmers</td>\n",
       "      <td>Sybrant Data</td>\n",
       "      <td>Adyar,  Chennai</td>\n",
       "      <td>Tamil Nadu</td>\n",
       "      <td>https://www.indeed.co.in/viewjob?jk=00ec82604c...</td>\n",
       "      <td>15 days ago</td>\n",
       "    </tr>\n",
       "    <tr>\n",
       "      <th>52</th>\n",
       "      <td>Jr. Python Developer</td>\n",
       "      <td>Algo.Ai</td>\n",
       "      <td>Pune</td>\n",
       "      <td>Maharashtra</td>\n",
       "      <td>https://www.indeed.co.in/viewjob?jk=2a01ebd3fb...</td>\n",
       "      <td>3 days ago</td>\n",
       "    </tr>\n",
       "    <tr>\n",
       "      <th>53</th>\n",
       "      <td>Ai Intern</td>\n",
       "      <td>Palpx</td>\n",
       "      <td>NaN</td>\n",
       "      <td>India</td>\n",
       "      <td>https://www.indeed.co.in/viewjob?jk=08addeaa09...</td>\n",
       "      <td>8 days ago</td>\n",
       "    </tr>\n",
       "    <tr>\n",
       "      <th>54</th>\n",
       "      <td>Staff Engineer - Full Stack - Python</td>\n",
       "      <td>Thinkdeeply Inc.</td>\n",
       "      <td>Hyderabad</td>\n",
       "      <td>Telangana</td>\n",
       "      <td>https://www.indeed.co.in/viewjob?jk=8465704349...</td>\n",
       "      <td>11 days ago</td>\n",
       "    </tr>\n",
       "    <tr>\n",
       "      <th>55</th>\n",
       "      <td>Staff Product Security Analyst</td>\n",
       "      <td>Baker Hughes</td>\n",
       "      <td>Mumbai</td>\n",
       "      <td>Maharashtra</td>\n",
       "      <td>https://www.indeed.co.in/viewjob?jk=7cd893edba...</td>\n",
       "      <td>14 days ago</td>\n",
       "    </tr>\n",
       "  </tbody>\n",
       "</table>\n",
       "</div>"
      ],
      "text/plain": [
       "                                JOB_NAME           COMPANY             CITY  \\\n",
       "51              Perl /Python Programmers      Sybrant Data  Adyar,  Chennai   \n",
       "52                  Jr. Python Developer           Algo.Ai             Pune   \n",
       "53                             Ai Intern             Palpx              NaN   \n",
       "54  Staff Engineer - Full Stack - Python  Thinkdeeply Inc.        Hyderabad   \n",
       "55        Staff Product Security Analyst      Baker Hughes           Mumbai   \n",
       "\n",
       "           STATE                                         APPLY_LINK  \\\n",
       "51    Tamil Nadu  https://www.indeed.co.in/viewjob?jk=00ec82604c...   \n",
       "52   Maharashtra  https://www.indeed.co.in/viewjob?jk=2a01ebd3fb...   \n",
       "53         India  https://www.indeed.co.in/viewjob?jk=08addeaa09...   \n",
       "54     Telangana  https://www.indeed.co.in/viewjob?jk=8465704349...   \n",
       "55   Maharashtra  https://www.indeed.co.in/viewjob?jk=7cd893edba...   \n",
       "\n",
       "    POSTED_DATE  \n",
       "51  15 days ago  \n",
       "52   3 days ago  \n",
       "53   8 days ago  \n",
       "54  11 days ago  \n",
       "55  14 days ago  "
      ]
     },
     "execution_count": 6,
     "metadata": {},
     "output_type": "execute_result"
    }
   ],
   "source": [
    "df.tail()"
   ]
  },
  {
   "cell_type": "code",
   "execution_count": 7,
   "metadata": {},
   "outputs": [
    {
     "data": {
      "text/plain": [
       " Telangana      41\n",
       " Maharashtra     7\n",
       " Karnataka       4\n",
       " Tamil Nadu      2\n",
       "Karnataka        1\n",
       "India            1\n",
       "Name: STATE, dtype: int64"
      ]
     },
     "execution_count": 7,
     "metadata": {},
     "output_type": "execute_result"
    }
   ],
   "source": [
    "df['STATE'].value_counts()"
   ]
  },
  {
   "cell_type": "code",
   "execution_count": 8,
   "metadata": {},
   "outputs": [
    {
     "data": {
      "text/plain": [
       "Text(0.5, 1.0, 'Indeed Jobs by Location - Python')"
      ]
     },
     "execution_count": 8,
     "metadata": {},
     "output_type": "execute_result"
    },
    {
     "data": {
      "image/png": "[encoded data removed]",
      "text/plain": [
       "<Figure size 864x864 with 1 Axes>"
      ]
     },
     "metadata": {},
     "output_type": "display_data"
    }
   ],
   "source": [
    "#Plotting a Pie chart of the Jobs across States\n",
    "df['STATE'].value_counts().plot(kind='pie', figsize = (12,12), autopct='%1.1f%%')\n",
    "plt.title('Indeed Jobs by Location - {}'.format(technology), fontsize=15)"
   ]
  },
  {
   "cell_type": "code",
   "execution_count": 9,
   "metadata": {},
   "outputs": [
    {
     "data": {
      "text/plain": [
       "(array([ 0.,  5., 10., 15., 20., 25., 30., 35., 40., 45.]),\n",
       " <a list of 10 Text major ticklabel objects>)"
      ]
     },
     "execution_count": 9,
     "metadata": {},
     "output_type": "execute_result"
    },
    {
     "data": {
      "image/png": "[encoded data removed]",
      "text/plain": [
       "<Figure size 864x576 with 1 Axes>"
      ]
     },
     "metadata": {
      "needs_background": "light"
     },
     "output_type": "display_data"
    }
   ],
   "source": [
    "#Plotting a Bar Graph of the Jobs across States\n",
    "s = df['STATE'].value_counts()\n",
    "ax = s.plot(kind = 'bar', figsize = (12,8), color= \"green\")\n",
    "\n",
    "#To show the text on top of the Bars\n",
    "[ax.text(i, v, '{}'.format(v)) for i, v in enumerate(s)]\n",
    "\n",
    "#Plot Properties\n",
    "plt.title('Indeed Jobs by Location - {}'.format(technology), fontsize=15)\n",
    "plt.xlabel(\"States\", labelpad = 10, fontsize=12)\n",
    "plt.xticks(fontsize=10)\n",
    "plt.ylabel(\"Number of Jobs\", labelpad = 10, fontsize=12)\n",
    "plt.yticks(fontsize=10)"
   ]
  },
  {
   "cell_type": "code",
   "execution_count": 10,
   "metadata": {},
   "outputs": [
    {
     "data": {
      "text/html": [
       "<div>\n",
       "<style scoped>\n",
       "    .dataframe tbody tr th:only-of-type {\n",
       "        vertical-align: middle;\n",
       "    }\n",
       "\n",
       "    .dataframe tbody tr th {\n",
       "        vertical-align: top;\n",
       "    }\n",
       "\n",
       "    .dataframe thead th {\n",
       "        text-align: right;\n",
       "    }\n",
       "</style>\n",
       "<table border=\"1\" class=\"dataframe\">\n",
       "  <thead>\n",
       "    <tr style=\"text-align: right;\">\n",
       "      <th></th>\n",
       "      <th>JOB_NAME</th>\n",
       "      <th>COMPANY</th>\n",
       "      <th>CITY</th>\n",
       "      <th>STATE</th>\n",
       "      <th>APPLY_LINK</th>\n",
       "      <th>POSTED_DATE</th>\n",
       "    </tr>\n",
       "  </thead>\n",
       "  <tbody>\n",
       "    <tr>\n",
       "      <th>51</th>\n",
       "      <td>Perl /Python Programmers</td>\n",
       "      <td>Sybrant Data</td>\n",
       "      <td>Adyar,  Chennai</td>\n",
       "      <td>Tamil Nadu</td>\n",
       "      <td>https://www.indeed.co.in/viewjob?jk=00ec82604c...</td>\n",
       "      <td>15 days ago</td>\n",
       "    </tr>\n",
       "    <tr>\n",
       "      <th>52</th>\n",
       "      <td>Jr. Python Developer</td>\n",
       "      <td>Algo.Ai</td>\n",
       "      <td>Pune</td>\n",
       "      <td>Maharashtra</td>\n",
       "      <td>https://www.indeed.co.in/viewjob?jk=2a01ebd3fb...</td>\n",
       "      <td>3 days ago</td>\n",
       "    </tr>\n",
       "    <tr>\n",
       "      <th>53</th>\n",
       "      <td>Ai Intern</td>\n",
       "      <td>Palpx</td>\n",
       "      <td>NaN</td>\n",
       "      <td>India</td>\n",
       "      <td>https://www.indeed.co.in/viewjob?jk=08addeaa09...</td>\n",
       "      <td>8 days ago</td>\n",
       "    </tr>\n",
       "    <tr>\n",
       "      <th>54</th>\n",
       "      <td>Staff Engineer - Full Stack - Python</td>\n",
       "      <td>Thinkdeeply Inc.</td>\n",
       "      <td>Hyderabad</td>\n",
       "      <td>Telangana</td>\n",
       "      <td>https://www.indeed.co.in/viewjob?jk=8465704349...</td>\n",
       "      <td>11 days ago</td>\n",
       "    </tr>\n",
       "    <tr>\n",
       "      <th>55</th>\n",
       "      <td>Staff Product Security Analyst</td>\n",
       "      <td>Baker Hughes</td>\n",
       "      <td>Mumbai</td>\n",
       "      <td>Maharashtra</td>\n",
       "      <td>https://www.indeed.co.in/viewjob?jk=7cd893edba...</td>\n",
       "      <td>14 days ago</td>\n",
       "    </tr>\n",
       "  </tbody>\n",
       "</table>\n",
       "</div>"
      ],
      "text/plain": [
       "                                JOB_NAME           COMPANY             CITY  \\\n",
       "51              Perl /Python Programmers      Sybrant Data  Adyar,  Chennai   \n",
       "52                  Jr. Python Developer           Algo.Ai             Pune   \n",
       "53                             Ai Intern             Palpx              NaN   \n",
       "54  Staff Engineer - Full Stack - Python  Thinkdeeply Inc.        Hyderabad   \n",
       "55        Staff Product Security Analyst      Baker Hughes           Mumbai   \n",
       "\n",
       "           STATE                                         APPLY_LINK  \\\n",
       "51    Tamil Nadu  https://www.indeed.co.in/viewjob?jk=00ec82604c...   \n",
       "52   Maharashtra  https://www.indeed.co.in/viewjob?jk=2a01ebd3fb...   \n",
       "53         India  https://www.indeed.co.in/viewjob?jk=08addeaa09...   \n",
       "54     Telangana  https://www.indeed.co.in/viewjob?jk=8465704349...   \n",
       "55   Maharashtra  https://www.indeed.co.in/viewjob?jk=7cd893edba...   \n",
       "\n",
       "    POSTED_DATE  \n",
       "51  15 days ago  \n",
       "52   3 days ago  \n",
       "53   8 days ago  \n",
       "54  11 days ago  \n",
       "55  14 days ago  "
      ]
     },
     "execution_count": 10,
     "metadata": {},
     "output_type": "execute_result"
    }
   ],
   "source": [
    "df.tail()"
   ]
  }
 ],
 "metadata": {
  "kernelspec": {
   "display_name": "Python 3",
   "language": "python",
   "name": "python3"
  },
  "language_info": {
   "codemirror_mode": {
    "name": "ipython",
    "version": 3
   },
   "file_extension": ".py",
   "mimetype": "text/x-python",
   "name": "python",
   "nbconvert_exporter": "python",
   "pygments_lexer": "ipython3",
   "version": "3.7.0"
  }
 },
 "nbformat": 4,
 "nbformat_minor": 2
}
