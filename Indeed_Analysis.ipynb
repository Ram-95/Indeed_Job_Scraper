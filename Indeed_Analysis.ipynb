{
 "cells": [
  {
   "cell_type": "markdown",
   "metadata": {},
   "source": [
    "# Pandas Basics"
   ]
  },
  {
   "cell_type": "code",
   "execution_count": null,
   "metadata": {},
   "outputs": [],
   "source": [
    "import pandas as pd\n",
    "import matplotlib.pyplot as plt\n",
    "import os"
   ]
  },
  {
   "cell_type": "code",
   "execution_count": null,
   "metadata": {},
   "outputs": [],
   "source": [
    "try:\n",
    "    path = 'C:\\\\Users\\\\shyam\\\\Desktop\\\\Indeed\\\\Python_India_Jobs.csv'\n",
    "    df = pd.read_csv(path, encoding=\"ISO-8859-1\")\n",
    "    technology = os.path.basename(path).split('_')[0]\n",
    "except Exception as e:\n",
    "    print(f'EXCEPTION: {e}')"
   ]
  },
  {
   "cell_type": "code",
   "execution_count": null,
   "metadata": {
    "scrolled": true
   },
   "outputs": [],
   "source": [
    "df.head()"
   ]
  },
  {
   "cell_type": "code",
   "execution_count": null,
   "metadata": {},
   "outputs": [],
   "source": [
    "df.shape"
   ]
  },
  {
   "cell_type": "code",
   "execution_count": null,
   "metadata": {},
   "outputs": [],
   "source": [
    "df.info()"
   ]
  },
  {
   "cell_type": "code",
   "execution_count": null,
   "metadata": {},
   "outputs": [],
   "source": [
    "df.tail()"
   ]
  },
  {
   "cell_type": "code",
   "execution_count": null,
   "metadata": {},
   "outputs": [],
   "source": [
    "df['STATE'].value_counts()"
   ]
  },
  {
   "cell_type": "code",
   "execution_count": null,
   "metadata": {},
   "outputs": [],
   "source": [
    "#Plotting a Pie chart of the Jobs across States\n",
    "df['STATE'].value_counts().plot(kind='pie', figsize = (12,12), autopct='%1.1f%%')\n",
    "plt.title('Indeed Jobs by Location - {}'.format(technology), fontsize=15)"
   ]
  },
  {
   "cell_type": "code",
   "execution_count": null,
   "metadata": {},
   "outputs": [],
   "source": [
    "#Plotting a Bar Graph of the Jobs across States\n",
    "s = df['STATE'].value_counts()\n",
    "ax = s.plot(kind = 'bar', figsize = (12,8), color= \"green\")\n",
    "\n",
    "#To show the text on top of the Bars\n",
    "[ax.text(i, v, '{}'.format(v)) for i, v in enumerate(s)]\n",
    "\n",
    "#Plot Properties\n",
    "plt.title('Indeed Jobs by Location - {}'.format(technology), fontsize=15)\n",
    "plt.xlabel(\"States\", labelpad = 10, fontsize=12)\n",
    "plt.xticks(fontsize=10)\n",
    "plt.ylabel(\"Number of Jobs\", labelpad = 10, fontsize=12)\n",
    "plt.yticks(fontsize=10)"
   ]
  },
  {
   "cell_type": "code",
   "execution_count": null,
   "metadata": {},
   "outputs": [],
   "source": [
    "df.tail()"
   ]
  },
  {
   "cell_type": "code",
   "execution_count": null,
   "metadata": {},
   "outputs": [],
   "source": []
  }
 ],
 "metadata": {
  "kernelspec": {
   "display_name": "Python 3",
   "language": "python",
   "name": "python3"
  },
  "language_info": {
   "codemirror_mode": {
    "name": "ipython",
    "version": 3
   },
   "file_extension": ".py",
   "mimetype": "text/x-python",
   "name": "python",
   "nbconvert_exporter": "python",
   "pygments_lexer": "ipython3",
   "version": "3.7.0"
  }
 },
 "nbformat": 4,
 "nbformat_minor": 2
}
